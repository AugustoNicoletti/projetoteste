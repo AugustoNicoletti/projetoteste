{
  "nbformat": 4,
  "nbformat_minor": 0,
  "metadata": {
    "colab": {
      "provenance": [],
      "toc_visible": true,
      "authorship_tag": "ABX9TyN22YsfXm44ofz6eGIHOBV0",
      "include_colab_link": true
    },
    "kernelspec": {
      "name": "python3",
      "display_name": "Python 3"
    },
    "language_info": {
      "name": "python"
    }
  },
  "cells": [
    {
      "cell_type": "markdown",
      "metadata": {
        "id": "view-in-github",
        "colab_type": "text"
      },
      "source": [
        "<a href=\"https://colab.research.google.com/github/AugustoNicoletti/projetoteste/blob/master/AULA-Linguagem_programa%C3%A7ao_Pratica.ipynb\" target=\"_parent\"><img src=\"https://colab.research.google.com/assets/colab-badge.svg\" alt=\"Open In Colab\"/></a>"
      ]
    },
    {
      "cell_type": "markdown",
      "source": [
        "# NUMPY - 1 - Abrir a documentaçao"
      ],
      "metadata": {
        "id": "wvShO5hWHwfw"
      }
    },
    {
      "cell_type": "markdown",
      "source": [
        "# NUMPY - 2 - Qual a diferença do array NUMPY para list in python"
      ],
      "metadata": {
        "id": "CyPad6GUHnmJ"
      }
    },
    {
      "cell_type": "code",
      "source": [
        "import numpy as np\n",
        "num_elementos = 1000000000\n",
        "teste_memoria_lista = []\n",
        "# for x in range (num_elementos):\n",
        "#   teste_memoria_lista.append(num_elementos)\n",
        "\n",
        "teste_memoria_array = np.arange(num_elementos)"
      ],
      "metadata": {
        "id": "zl_S3ArIHt3b"
      },
      "execution_count": null,
      "outputs": []
    },
    {
      "cell_type": "markdown",
      "source": [
        "# Numpy - 3 - Criação de arryas em numpy"
      ],
      "metadata": {
        "id": "Z6YVOsHeLxPK"
      }
    },
    {
      "cell_type": "code",
      "source": [
        "import numpy as np\n",
        "\n",
        "\n",
        "\n",
        "print(f'Criação de array numpy utilizando o metodo .zeros:\\n{np.zeros([12])}\\n')\n",
        "print(f'Criação de array numpy utilizando o metodo .array:\\n{np.array([0,1,2,3,4,5,6,7,8,9,100])}\\n')\n",
        "print(f'Criação de array numpy utilizando o metodo .ones:\\n{np.ones([100])}\\n')\n",
        "print(f'Criação de array numpy utilizando o metodo .empty:\\n{np.empty(12)}\\n')\n",
        "print(f'Criação de array numpy utilizando o metodo .arange:\\n{np.arange(101)}\\n')\n",
        "print(f'Criação de array numpy utilizando o metodo .linspace:\\n{np.linspace(0,100,num = 100)}\\n')"
      ],
      "metadata": {
        "colab": {
          "base_uri": "https://localhost:8080/"
        },
        "id": "2ymnfTziL4_b",
        "outputId": "fc3a8901-e752-4657-8d17-57361c14ba8a"
      },
      "execution_count": null,
      "outputs": [
        {
          "output_type": "stream",
          "name": "stdout",
          "text": [
            "Criação de array numpy utilizando o metodo .zeros:\n",
            "[0. 0. 0. 0. 0. 0. 0. 0. 0. 0. 0. 0.]\n",
            "\n",
            "Criação de array numpy utilizando o metodo .array:\n",
            "[  0   1   2   3   4   5   6   7   8   9 100]\n",
            "\n",
            "Criação de array numpy utilizando o metodo .ones:\n",
            "[1. 1. 1. 1. 1. 1. 1. 1. 1. 1. 1. 1. 1. 1. 1. 1. 1. 1. 1. 1. 1. 1. 1. 1.\n",
            " 1. 1. 1. 1. 1. 1. 1. 1. 1. 1. 1. 1. 1. 1. 1. 1. 1. 1. 1. 1. 1. 1. 1. 1.\n",
            " 1. 1. 1. 1. 1. 1. 1. 1. 1. 1. 1. 1. 1. 1. 1. 1. 1. 1. 1. 1. 1. 1. 1. 1.\n",
            " 1. 1. 1. 1. 1. 1. 1. 1. 1. 1. 1. 1. 1. 1. 1. 1. 1. 1. 1. 1. 1. 1. 1. 1.\n",
            " 1. 1. 1. 1.]\n",
            "\n",
            "Criação de array numpy utilizando o metodo .empty:\n",
            "[0. 0. 0. 0. 0. 0. 0. 0. 0. 0. 0. 0.]\n",
            "\n",
            "Criação de array numpy utilizando o metodo .arange:\n",
            "[  0   1   2   3   4   5   6   7   8   9  10  11  12  13  14  15  16  17\n",
            "  18  19  20  21  22  23  24  25  26  27  28  29  30  31  32  33  34  35\n",
            "  36  37  38  39  40  41  42  43  44  45  46  47  48  49  50  51  52  53\n",
            "  54  55  56  57  58  59  60  61  62  63  64  65  66  67  68  69  70  71\n",
            "  72  73  74  75  76  77  78  79  80  81  82  83  84  85  86  87  88  89\n",
            "  90  91  92  93  94  95  96  97  98  99 100]\n",
            "\n",
            "Criação de array numpy utilizando o metodo .linspace:\n",
            "[  0.           1.01010101   2.02020202   3.03030303   4.04040404\n",
            "   5.05050505   6.06060606   7.07070707   8.08080808   9.09090909\n",
            "  10.1010101   11.11111111  12.12121212  13.13131313  14.14141414\n",
            "  15.15151515  16.16161616  17.17171717  18.18181818  19.19191919\n",
            "  20.2020202   21.21212121  22.22222222  23.23232323  24.24242424\n",
            "  25.25252525  26.26262626  27.27272727  28.28282828  29.29292929\n",
            "  30.3030303   31.31313131  32.32323232  33.33333333  34.34343434\n",
            "  35.35353535  36.36363636  37.37373737  38.38383838  39.39393939\n",
            "  40.4040404   41.41414141  42.42424242  43.43434343  44.44444444\n",
            "  45.45454545  46.46464646  47.47474747  48.48484848  49.49494949\n",
            "  50.50505051  51.51515152  52.52525253  53.53535354  54.54545455\n",
            "  55.55555556  56.56565657  57.57575758  58.58585859  59.5959596\n",
            "  60.60606061  61.61616162  62.62626263  63.63636364  64.64646465\n",
            "  65.65656566  66.66666667  67.67676768  68.68686869  69.6969697\n",
            "  70.70707071  71.71717172  72.72727273  73.73737374  74.74747475\n",
            "  75.75757576  76.76767677  77.77777778  78.78787879  79.7979798\n",
            "  80.80808081  81.81818182  82.82828283  83.83838384  84.84848485\n",
            "  85.85858586  86.86868687  87.87878788  88.88888889  89.8989899\n",
            "  90.90909091  91.91919192  92.92929293  93.93939394  94.94949495\n",
            "  95.95959596  96.96969697  97.97979798  98.98989899 100.        ]\n",
            "\n"
          ]
        }
      ]
    },
    {
      "cell_type": "markdown",
      "source": [
        "# NUMPY - 4 - Importancia de definir o tipo de dado"
      ],
      "metadata": {
        "id": "z1UStX4HQ_hi"
      }
    },
    {
      "cell_type": "code",
      "source": [
        "import numpy as np\n",
        "num_elementos = 1000000000\n",
        "# teste_performance = np.ones(num_elementos)\n",
        "teste_performance = np.ones(num_elementos, dtype = np.int32)\n",
        "print(teste_performance)"
      ],
      "metadata": {
        "colab": {
          "base_uri": "https://localhost:8080/"
        },
        "id": "H5xOP4PgRHDe",
        "outputId": "511a0ceb-5f50-475d-96d8-b1196dad1e95"
      },
      "execution_count": null,
      "outputs": [
        {
          "output_type": "stream",
          "name": "stdout",
          "text": [
            "[1 1 1 ... 1 1 1]\n"
          ]
        }
      ]
    },
    {
      "cell_type": "markdown",
      "source": [
        "# NUMPY - 5 - Criação de numeros randonmicos"
      ],
      "metadata": {
        "id": "vppxTer7TCJJ"
      }
    },
    {
      "cell_type": "code",
      "source": [
        "import numpy as np\n",
        "\n",
        "rng = np.random.default_rng()\n",
        "print(rng.random(10))"
      ],
      "metadata": {
        "colab": {
          "base_uri": "https://localhost:8080/"
        },
        "id": "O6mNfs6JTOE-",
        "outputId": "3815aa7c-a449-496b-f7c4-3fee96677eba"
      },
      "execution_count": null,
      "outputs": [
        {
          "output_type": "stream",
          "name": "stdout",
          "text": [
            "[0.03016324 0.47804348 0.61305093 0.48906938 0.5465924  0.8186977\n",
            " 0.2294432  0.59827874 0.12335611 0.9138165 ]\n"
          ]
        }
      ]
    },
    {
      "cell_type": "markdown",
      "source": [
        "# NUMPY - 6 - Vetor,Matriz,Tensor"
      ],
      "metadata": {
        "id": "x5QiHGfjTg5T"
      }
    },
    {
      "cell_type": "code",
      "source": [
        "import numpy as np\n",
        "rng = np.random.default_rng()\n",
        "vetor = rng.random(4)\n",
        "print(f\"array de 1 Dimensao (vetor) randomico:\\n{vetor}\\n\")\n",
        "matriz = rng.random([4,4])\n",
        "print(f\"array de 2 Dimensao (matriz) randomico:\\n{matriz}\\n\")\n",
        "tensor = rng.random([4,4,4])\n",
        "print(f\"array de 3 Dimensao (tensor) randomico:\\n{tensor}\\n\")\n"
      ],
      "metadata": {
        "colab": {
          "base_uri": "https://localhost:8080/"
        },
        "id": "qJkVEEFNTnh8",
        "outputId": "4eb830ee-2a40-49b2-b536-0e74603d36d2"
      },
      "execution_count": null,
      "outputs": [
        {
          "output_type": "stream",
          "name": "stdout",
          "text": [
            "array de 1 Dimensao (vetor) randomico:\n",
            "[0.35301807 0.46429793 0.14838399 0.50130104]\n",
            "\n",
            "array de 2 Dimensao (matriz) randomico:\n",
            "[[0.65762253 0.20179172 0.16724515 0.07973557]\n",
            " [0.36442099 0.62858451 0.72316584 0.51921877]\n",
            " [0.41748538 0.37068209 0.84499016 0.48541898]\n",
            " [0.21806093 0.25475547 0.87396069 0.59945097]]\n",
            "\n",
            "array de 3 Dimensao (tensor) randomico:\n",
            "[[[0.67111677 0.23642536 0.11871689 0.80122026]\n",
            "  [0.66649235 0.73416682 0.71022838 0.7823387 ]\n",
            "  [0.3362061  0.7933858  0.15003171 0.28714489]\n",
            "  [0.55368162 0.10878521 0.42675642 0.42238852]]\n",
            "\n",
            " [[0.38478678 0.28550953 0.04589445 0.22059131]\n",
            "  [0.9560818  0.49130948 0.97598403 0.26411119]\n",
            "  [0.21884753 0.92568961 0.87255542 0.91304831]\n",
            "  [0.78480474 0.85322458 0.37951436 0.99019333]]\n",
            "\n",
            " [[0.28628778 0.7281963  0.08361412 0.45207788]\n",
            "  [0.22626592 0.52990396 0.41657738 0.45904985]\n",
            "  [0.74963865 0.96442801 0.05204283 0.93071896]\n",
            "  [0.09433014 0.26502458 0.23560173 0.73026314]]\n",
            "\n",
            " [[0.69583889 0.73586332 0.56531082 0.41309777]\n",
            "  [0.74782526 0.18057087 0.16061742 0.1931177 ]\n",
            "  [0.91399535 0.66507611 0.54714466 0.7724353 ]\n",
            "  [0.27389187 0.55657034 0.01137136 0.81663211]]]\n",
            "\n"
          ]
        }
      ]
    },
    {
      "cell_type": "markdown",
      "source": [
        "# NUMPY - 7 - Ordenaçao e adicionar elementos"
      ],
      "metadata": {
        "id": "sxWlP7hCUhHJ"
      }
    },
    {
      "cell_type": "code",
      "source": [
        "import numpy as np\n",
        "\n",
        "rng = np.random.default_rng()\n",
        "\n",
        "array_1 = rng.random([2,3])\n",
        "print(f'array 1 SEM ordenação:\\n{array_1}\\n')\n",
        "print(f'array 1 SEM ordenação:\\n{np.sort(array_1, axis = 1)}\\n')\n",
        "\n",
        "# comcatenaçáo\n",
        "\n",
        "array_2 = rng.random([2,1])\n",
        "print(f'array 2:\\n{array_2}\\n')\n",
        "\n",
        "array_concatenado = np.concatenate([array_1,array_2], axis=1)\n",
        "print(f\"Array Concatenado:\\n{array_concatenado}\\n\")\n",
        "\n",
        "array_concatenado_2 = np.hstack([array_1,array_2])\n",
        "print(f'Array concatenado:\\n{array_concatenado_2}\\n')"
      ],
      "metadata": {
        "colab": {
          "base_uri": "https://localhost:8080/"
        },
        "id": "J-WbMOCMUmAo",
        "outputId": "2ff9007d-3dff-4cb8-ff71-4227183ed3ad"
      },
      "execution_count": null,
      "outputs": [
        {
          "output_type": "stream",
          "name": "stdout",
          "text": [
            "array 1 SEM ordenação:\n",
            "[[0.22555392 0.1830934  0.24297508]\n",
            " [0.7006454  0.97201479 0.13974834]]\n",
            "\n",
            "array 1 SEM ordenação:\n",
            "[[0.1830934  0.22555392 0.24297508]\n",
            " [0.13974834 0.7006454  0.97201479]]\n",
            "\n",
            "array 2:\n",
            "[[0.0694359]\n",
            " [0.7078754]]\n",
            "\n",
            "Array Concatenado:\n",
            "[[0.22555392 0.1830934  0.24297508 0.0694359 ]\n",
            " [0.7006454  0.97201479 0.13974834 0.7078754 ]]\n",
            "\n",
            "Array concatenado:\n",
            "[[0.22555392 0.1830934  0.24297508 0.0694359 ]\n",
            " [0.7006454  0.97201479 0.13974834 0.7078754 ]]\n",
            "\n"
          ]
        }
      ]
    },
    {
      "cell_type": "markdown",
      "source": [
        "# NUMPY - 8 - Conhecendo o seu Array\n"
      ],
      "metadata": {
        "id": "4ZOMUqgNYyNB"
      }
    },
    {
      "cell_type": "code",
      "source": [
        "import numpy as np\n",
        "\n",
        "rng = np.random.default_rng()\n",
        "array_test_4 = rng.random([23,43,17])\n",
        "print(f'Quais sao as suas dimensoes: \\n{array_test_4.ndim}\\n')\n",
        "print(f'Qual seu formato: \\n{array_test_4.shape}\\n')\n",
        "print(f'Quantos elementos possui: \\n{array_test_4.size}\\n')\n"
      ],
      "metadata": {
        "colab": {
          "base_uri": "https://localhost:8080/"
        },
        "id": "jzsPW5rgY3tW",
        "outputId": "d6d0fa98-b49f-49c2-d0d1-128cf81cedca"
      },
      "execution_count": null,
      "outputs": [
        {
          "output_type": "stream",
          "name": "stdout",
          "text": [
            "Quais sao as suas dimensoes: \n",
            "3\n",
            "\n",
            "Qual seu formato: \n",
            "(23, 43, 17)\n",
            "\n",
            "Quantos elementos possui: \n",
            "16813\n",
            "\n"
          ]
        }
      ]
    },
    {
      "cell_type": "markdown",
      "source": [
        "# NUMPY - 9 - Como mudar um formato de array"
      ],
      "metadata": {
        "id": "ajpTFEouZxrR"
      }
    },
    {
      "cell_type": "code",
      "source": [
        "import numpy as np\n",
        "\n",
        "array_a = np.arange(0,20)\n",
        "print(f'Array a:\\n{array_a}\\n')\n",
        "\n",
        "array_a = array_a.reshape(4,5)\n",
        "print(f\"Array a \\n{array_a}\\n\")\n",
        "\n",
        "array_a = np.reshape(array_a,[4,5])\n",
        "print(f\"Array a:\\n{array_a}\\n\")\n",
        "\n",
        "array_a = array_a.flatten()\n",
        "print(f\"Array a:\\n{array_a}\\n\")\n",
        "\n",
        "array_b = array_a.reshape(4,5)\n",
        "print(f\"Array b:\\n{array_b}\\n\")\n",
        "\n",
        "array_b = np.vsplit(array_b,4)\n",
        "print(f\"array b: \\n{array_b}\\n\")\n",
        "print(array_b[0])"
      ],
      "metadata": {
        "colab": {
          "base_uri": "https://localhost:8080/"
        },
        "id": "JbXaLL_sZ7eM",
        "outputId": "4c3a5d21-2dc6-49c5-dfc1-67fedffd406d"
      },
      "execution_count": null,
      "outputs": [
        {
          "output_type": "stream",
          "name": "stdout",
          "text": [
            "Array a:\n",
            "[ 0  1  2  3  4  5  6  7  8  9 10 11 12 13 14 15 16 17 18 19]\n",
            "\n",
            "Array a \n",
            "[[ 0  1  2  3  4]\n",
            " [ 5  6  7  8  9]\n",
            " [10 11 12 13 14]\n",
            " [15 16 17 18 19]]\n",
            "\n",
            "Array a:\n",
            "[[ 0  1  2  3  4]\n",
            " [ 5  6  7  8  9]\n",
            " [10 11 12 13 14]\n",
            " [15 16 17 18 19]]\n",
            "\n",
            "Array a:\n",
            "[ 0  1  2  3  4  5  6  7  8  9 10 11 12 13 14 15 16 17 18 19]\n",
            "\n",
            "Array b:\n",
            "[[ 0  1  2  3  4]\n",
            " [ 5  6  7  8  9]\n",
            " [10 11 12 13 14]\n",
            " [15 16 17 18 19]]\n",
            "\n",
            "array b: \n",
            "[array([[0, 1, 2, 3, 4]]), array([[5, 6, 7, 8, 9]]), array([[10, 11, 12, 13, 14]]), array([[15, 16, 17, 18, 19]])]\n",
            "\n",
            "[[0 1 2 3 4]]\n"
          ]
        }
      ]
    },
    {
      "cell_type": "markdown",
      "source": [
        "#"
      ],
      "metadata": {
        "id": "48hpE8z7c5HC"
      }
    },
    {
      "cell_type": "markdown",
      "source": [
        "# PLOTLY - 1 - Abrir documentaçao"
      ],
      "metadata": {
        "id": "UBpSR276dCF4"
      }
    },
    {
      "cell_type": "code",
      "source": [
        "\n",
        "\n"
      ],
      "metadata": {
        "colab": {
          "base_uri": "https://localhost:8080/"
        },
        "id": "odWmNxB8dL2b",
        "outputId": "58be10d6-c730-4132-adf3-0831fa05a5ce"
      },
      "execution_count": null,
      "outputs": [
        {
          "output_type": "stream",
          "name": "stdout",
          "text": [
            "Veiculo\n",
            "Nome do Modelo\n",
            "Nome do Fabricante\n",
            "4\n"
          ]
        }
      ]
    }
  ]
}