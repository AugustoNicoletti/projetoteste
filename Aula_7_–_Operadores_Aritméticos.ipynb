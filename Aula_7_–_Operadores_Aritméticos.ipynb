{
  "nbformat": 4,
  "nbformat_minor": 0,
  "metadata": {
    "colab": {
      "provenance": [],
      "authorship_tag": "ABX9TyNRxpULrHiJ/pqtwKwzn5/4",
      "include_colab_link": true
    },
    "kernelspec": {
      "name": "python3",
      "display_name": "Python 3"
    },
    "language_info": {
      "name": "python"
    }
  },
  "cells": [
    {
      "cell_type": "markdown",
      "metadata": {
        "id": "view-in-github",
        "colab_type": "text"
      },
      "source": [
        "<a href=\"https://colab.research.google.com/github/AugustoNicoletti/projetoteste/blob/master/Aula_7_%E2%80%93_Operadores_Aritm%C3%A9ticos.ipynb\" target=\"_parent\"><img src=\"https://colab.research.google.com/assets/colab-badge.svg\" alt=\"Open In Colab\"/></a>"
      ]
    },
    {
      "cell_type": "code",
      "execution_count": 22,
      "metadata": {
        "colab": {
          "base_uri": "https://localhost:8080/"
        },
        "id": "dCo95hLSxYDO",
        "outputId": "e57f2809-784d-424e-80f8-1eda70a438af"
      },
      "outputs": [
        {
          "output_type": "stream",
          "name": "stdout",
          "text": [
            "Digite um valor: 12\n",
            "Digite outro valor: 5\n",
            "A soma vale 17, \n",
            " A mutiplicação vale 60 e a divisão vale 2.400 Divisão inteira 2, e potencia 248832 \n",
            "tope\n"
          ]
        }
      ],
      "source": [
        "n1 = int(input(\"Digite um valor: \"))\n",
        "n2 = int(input(\"Digite outro valor: \"))\n",
        "s = n1 + n2\n",
        "m = n1 * n2\n",
        "d = n1 / n2\n",
        "di = n1 // n2\n",
        "e = n1 ** n2\n",
        "print(\"A soma vale {}, A mutiplicação vale {} e a divisão vale {:.3f}\".format(s, m, d), end=\" \") # end=\" \" usado para juntas a linha atual do print com a linha print abaixo\n",
        "print(\"Divisão inteira {}, e potencia {} \".format(di, e))\n",
        "\n"
      ]
    }
  ]
}