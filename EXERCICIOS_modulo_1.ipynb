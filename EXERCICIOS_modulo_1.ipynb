{
  "nbformat": 4,
  "nbformat_minor": 0,
  "metadata": {
    "colab": {
      "provenance": [],
      "authorship_tag": "ABX9TyOMxGC8GeRJjmtZ3WwQgxPz",
      "include_colab_link": true
    },
    "kernelspec": {
      "name": "python3",
      "display_name": "Python 3"
    },
    "language_info": {
      "name": "python"
    }
  },
  "cells": [
    {
      "cell_type": "markdown",
      "metadata": {
        "id": "view-in-github",
        "colab_type": "text"
      },
      "source": [
        "<a href=\"https://colab.research.google.com/github/AugustoNicoletti/projetoteste/blob/master/EXERCICIOS_modulo_1.ipynb\" target=\"_parent\"><img src=\"https://colab.research.google.com/assets/colab-badge.svg\" alt=\"Open In Colab\"/></a>"
      ]
    },
    {
      "cell_type": "markdown",
      "source": [
        "##DESAFIO 001\n",
        "##Crie um programa que escreva \"ola mundo\" na tela.\n"
      ],
      "metadata": {
        "id": "MJl_NCkUhWDO"
      }
    },
    {
      "cell_type": "code",
      "execution_count": null,
      "metadata": {
        "colab": {
          "base_uri": "https://localhost:8080/"
        },
        "id": "jqtU445AhM3A",
        "outputId": "b28c5e45-9b5f-4244-8625-9ebc26f21df0"
      },
      "outputs": [
        {
          "output_type": "stream",
          "name": "stdout",
          "text": [
            "Digite qualquer tecla para ler a mensagem!s\n",
            "Olá mundo\n"
          ]
        }
      ],
      "source": [
        "mensagem = input(\"Digite qualquer tecla para ler a mensagem!\")\n",
        "print(\"Olá mundo\")\n"
      ]
    },
    {
      "cell_type": "markdown",
      "source": [
        "##DESAFIO 002\n",
        "##Faça um programa que leia o nome de uma pessoa e mostre uma mensagem de boas-vindas."
      ],
      "metadata": {
        "id": "OVGOe7XHlMMW"
      }
    },
    {
      "cell_type": "code",
      "source": [
        "nome = input('Digite seu nome: ')\n",
        "print(\"É um prazer te conhecer, {}!!\".format(nome))"
      ],
      "metadata": {
        "colab": {
          "base_uri": "https://localhost:8080/"
        },
        "id": "9G3QOkgWk9pd",
        "outputId": "e3c2bad2-bbee-40b4-dea1-04b4e16341b5"
      },
      "execution_count": null,
      "outputs": [
        {
          "output_type": "stream",
          "name": "stdout",
          "text": [
            "Digite seu nome: Augusto\n",
            "É um prazer te conhecer, Augusto!!\n"
          ]
        }
      ]
    },
    {
      "cell_type": "markdown",
      "source": [
        "##DESAFIO 003\n",
        "## Cria um programa que leia dois números e mostre a soma entre eles.\n"
      ],
      "metadata": {
        "id": "AwxBVRVpmMpk"
      }
    },
    {
      "cell_type": "code",
      "source": [
        "n1 = int(input(\"Digite um valor \" ))\n",
        "n2 = int(input(\"Digite outro valor \" ))\n",
        "r = n1 + n2\n",
        "print(\"A soma entre {} e {} foi de: {}\".format(n1,n2,r))"
      ],
      "metadata": {
        "colab": {
          "base_uri": "https://localhost:8080/"
        },
        "id": "x1Htd_-nwiyd",
        "outputId": "8e943b95-3bfe-4bf9-d972-a1e043503dfb"
      },
      "execution_count": 1,
      "outputs": [
        {
          "output_type": "stream",
          "name": "stdout",
          "text": [
            "Digite um valor 3\n",
            "Digite outro valor 4\n",
            "A soma entre 3 e 4 foi de: 7\n"
          ]
        }
      ]
    },
    {
      "cell_type": "markdown",
      "source": [
        "##DESAFIO 004\n",
        "###Faça um programa que leia algo pelo teclado e mostre na tela o seu tipo primitivo e todas as informaçoes possiveis sobre ele."
      ],
      "metadata": {
        "id": "yyCz8f3QxQq-"
      }
    },
    {
      "cell_type": "code",
      "source": [
        "tx = input(\"Digite algo \")\n",
        "print(\"O tipo primitivo é :\", type(tx))\n",
        "print(\"Só tem espaços? \", tx.isspace())\n",
        "print(\"É um numero ? \", tx.isnumeric())\n",
        "print(\"É alfabetico ? \", tx.isalpha())\n",
        "print(\"É alfanumerico ? \", tx.isalnum())\n",
        "print(\"Está em maiusculas ? \", tx.isupper())\n",
        "print(\"Está em minusculas ? \", tx.islower())\n",
        "print(\"Está capitalizada ? \", tx.istitle())"
      ],
      "metadata": {
        "colab": {
          "base_uri": "https://localhost:8080/"
        },
        "id": "FZAyezmkyCi4",
        "outputId": "ec944bd1-1a57-4776-b270-6bf387659b4f"
      },
      "execution_count": 12,
      "outputs": [
        {
          "output_type": "stream",
          "name": "stdout",
          "text": [
            "Digite algo df\n",
            "O tipo primitivo é : <class 'str'>\n",
            "Só tem espaços?  False\n",
            "É um numero ?  False\n",
            "É alfabetico ?  True\n",
            "É alfanumerico ?  True\n",
            "Está em maiusculas ?  False\n",
            "Está em minusculas ?  True\n",
            "Está capitalizada ?  False\n"
          ]
        }
      ]
    },
    {
      "cell_type": "markdown",
      "source": [
        "## DESAFIO 005\n",
        "### Faça um programa que leia um numero inteiro e mostre na tela seu sucessor e antecessor"
      ],
      "metadata": {
        "id": "avnssarLAIeu"
      }
    },
    {
      "cell_type": "code",
      "source": [
        "n1 = int(input(\"Digite um numero \"))\n",
        "s1 = n1 + 1\n",
        "s2 = n1 - 1\n",
        "\n",
        "print(\"O numero Digitado foi {}, Seu antecessor é {} e seu sucessor é {} \".format(n1,s2,s1))"
      ],
      "metadata": {
        "colab": {
          "base_uri": "https://localhost:8080/"
        },
        "id": "B82Wk3bEASUX",
        "outputId": "8c320b2a-38da-4a0e-feaf-f8ac170427ec"
      },
      "execution_count": 15,
      "outputs": [
        {
          "output_type": "stream",
          "name": "stdout",
          "text": [
            "Digite um numero 8\n",
            "O numero Digitado foi 8, Seu antecessor é 7 e seu sucessor é 9 \n"
          ]
        }
      ]
    },
    {
      "cell_type": "markdown",
      "source": [
        "##DESAFIO 006\n",
        "###Crie um algoritimo que leia um numero e mostre o seu dobro,triplo e raiz quadrada."
      ],
      "metadata": {
        "id": "-JzMDHgRBAMs"
      }
    },
    {
      "cell_type": "code",
      "source": [
        "n1 = int(input(\"Digite um numero \"))\n",
        "s1 = n1 * 2\n",
        "s2 = n1 * 3\n",
        "s3 = n1 ** (1/2)\n",
        "print(\"O numero escolhido foi {}, o seu dobro é {}, o triplo é {} e raiz quadrada é {}\".format(n1,s1,s2,s3))"
      ],
      "metadata": {
        "colab": {
          "base_uri": "https://localhost:8080/"
        },
        "id": "-Z5kN72JBKCQ",
        "outputId": "a574d81b-65e1-43f4-9f8e-ac13f9ec46d0"
      },
      "execution_count": 20,
      "outputs": [
        {
          "output_type": "stream",
          "name": "stdout",
          "text": [
            "Digite um numero 5\n",
            "O numero escolhido foi 5, o seu dobro é 10, o triplo é 15 e raiz quadrada é 2.23606797749979\n"
          ]
        }
      ]
    },
    {
      "cell_type": "markdown",
      "source": [
        "## DESAFIO 007\n",
        "### Desenvolva um programa que leia as duas notas de um aluno, calcule e mostre sua media."
      ],
      "metadata": {
        "id": "fmdSrI8lDzS9"
      }
    },
    {
      "cell_type": "code",
      "source": [
        "nota1 = int(input(\"Digite a nota numero 1 > \"))\n",
        "nota2 = int(input(\"Digite a nota numero 2 > \"))\n",
        "mn1 = nota1 + nota2\n",
        "mn2 = mn1 / 2\n",
        "print(\"A média das duas notas foram {}\".format(mn2))"
      ],
      "metadata": {
        "colab": {
          "base_uri": "https://localhost:8080/"
        },
        "id": "ZG9C-B8FEA1R",
        "outputId": "5547f339-65f4-4424-8f53-4bb6158c0eeb"
      },
      "execution_count": 24,
      "outputs": [
        {
          "output_type": "stream",
          "name": "stdout",
          "text": [
            "Digite a nota numero 1 > 10\n",
            "Digite a nota numero 2 > 7\n",
            "A média das duas notas foram 8.5\n"
          ]
        }
      ]
    },
    {
      "cell_type": "markdown",
      "source": [
        "##DESAFIO 008\n",
        "### Escreva um programa que leia um valor em metros e o exiba convertido em centimetros e milimetros"
      ],
      "metadata": {
        "id": "RLIEoxc1FNAK"
      }
    },
    {
      "cell_type": "code",
      "source": [
        "mt = int(input(\"Digite a metragem > \"))\n",
        "c = mt * 100\n",
        "m = mt * 1000\n",
        "print(\"O valor de {} METROS, convertida em centimetros fica {}CM, e em milimetros {}MM\".format(mt,c,m))\n"
      ],
      "metadata": {
        "colab": {
          "base_uri": "https://localhost:8080/"
        },
        "id": "X2Fq_vH0FfbS",
        "outputId": "8658d04a-048b-41f0-cb0d-0a3254ee0bcd"
      },
      "execution_count": 36,
      "outputs": [
        {
          "output_type": "stream",
          "name": "stdout",
          "text": [
            "Digite a metragem > 10\n",
            "O valor de 10 METROS, convertida em centimetros fica 1000CM, e em milimetros 10000MM,\n"
          ]
        }
      ]
    },
    {
      "cell_type": "markdown",
      "source": [
        "##DESFIO 009\n",
        "### Faça um programa que leia um numero inteiro qualquer e mostre na tala a sua tabuada"
      ],
      "metadata": {
        "id": "39GJ5QRlHEH_"
      }
    },
    {
      "cell_type": "code",
      "source": [
        "num1 = int(input(\"Digite um numero: \"))\n",
        "s1 = num1 * 1\n",
        "s2 = num1 * 2\n",
        "s3 = num1 * 3\n",
        "s4 = num1 * 4\n",
        "s5 = num1 * 5\n",
        "s6 = num1 * 6\n",
        "s7 = num1 * 7\n",
        "s8 = num1 * 8\n",
        "s9 = num1 * 9\n",
        "s10 = num1 * 10\n",
        "print(\"O numero Digitado foi {} Sua tabuada é: \".format(num1))\n",
        "print(\" 2 x 1 > {}\\n 2 x 2 > {}\\n 2 x 3 > {}\\n 2 x 4 > {}\\n 2 x 5 > {}\\n 2 x 6 > {}\\n 2 x 7 > {}\\n 2 x 8 > {}\\n 2 x 9 > {}\\n 2 x 10 > {}\\n\".format(s1,s2,s3,s4,s5,s6,s7,s8,s9,s10))"
      ],
      "metadata": {
        "colab": {
          "base_uri": "https://localhost:8080/"
        },
        "id": "ALTqKV-aHPnn",
        "outputId": "47e3c013-2336-4847-f209-7b1ddf3d9765"
      },
      "execution_count": 44,
      "outputs": [
        {
          "output_type": "stream",
          "name": "stdout",
          "text": [
            "Digite um numero: 20\n",
            "O numero Digitado foi 20 Sua tabuada é: \n",
            " 2 x 1 > 20\n",
            " 2 x 2 > 40\n",
            " 2 x 3 > 60\n",
            " 2 x 4 > 80\n",
            " 2 x 5 > 100\n",
            " 2 x 6 > 120\n",
            " 2 x 7 > 140\n",
            " 2 x 8 > 160\n",
            " 2 x 9 > 180\n",
            " 2 x 10 > 200\n",
            "\n"
          ]
        }
      ]
    },
    {
      "cell_type": "markdown",
      "source": [
        "##Desafio 010\n",
        "###Crie um programa que leia quanto dinheiro uma pessoa tem na carteira e mostre quantos dolares ela pode comprar.\n",
        "\n",
        "###Considere 1,00 = 3,27\n"
      ],
      "metadata": {
        "id": "8KFIIdmgJFnO"
      }
    },
    {
      "cell_type": "code",
      "source": [
        "s1 = 100\n",
        "dl = 3.27\n",
        "ct = input(\" Para acessar sua carteira digite algo e pressione ENTER \")\n",
        "print(\" Seu saldo é de 100 R$\")\n",
        "d = input(\" Para simular quantos dolar voce pode comprar digite alguma coisa e pressione ENTER\")\n",
        "cv = s1 / 3.27\n",
        "print (\" Seu saldo atual {} R$\\n Cotaçao atual do dolar {}\\n Voce pode adquirir o total de {} dolar\".format(s1,dl,cv))"
      ],
      "metadata": {
        "colab": {
          "base_uri": "https://localhost:8080/"
        },
        "id": "oc4ziJazJYgY",
        "outputId": "71ce3707-4c88-4bc1-ad95-227bc3d94236"
      },
      "execution_count": 57,
      "outputs": [
        {
          "output_type": "stream",
          "name": "stdout",
          "text": [
            " Para acessar sua carteira digite algo e pressione ENTER \n",
            " Seu saldo é de 100 R$\n",
            " Para simular quantos dolar voce pode comprar digite alguma coisa e pressione ENTER\n",
            " Seu saldo atual 100 R$\n",
            " Cotaçao atual do dolar 3.27\n",
            " Voce pode adquirir o total de 30.581039755351682 dolar\n"
          ]
        }
      ]
    },
    {
      "cell_type": "markdown",
      "source": [
        "##DESAFIO 011\n",
        "###Faça um programa que leia a largura e a altura de uma parede em metros e calcule a sua area e a quantidade de tinta necessaria para pinta-la sabendo que cada litro de tinta, pinta uma area de 2m."
      ],
      "metadata": {
        "id": "6Fk1gcr7MhzX"
      }
    },
    {
      "cell_type": "code",
      "source": [
        "altura_parede = int(input(\"Digite a altura da parede em METROS : \"))\n",
        "largura_parede = int(input(\"Digite a largura da parede EM METROS : \"))\n",
        "area_total = altura_parede * largura_parede\n",
        "print(\"Area total é de {} Metros\".format(area_total))\n",
        "\n",
        "pintura = area_total / 2\n",
        "print(\"A quantidade de tinta necessaria para pintar a Area informada é de {} Litros\".format(pintura))\n",
        "\n"
      ],
      "metadata": {
        "colab": {
          "base_uri": "https://localhost:8080/"
        },
        "id": "jj5Jx5yDM0v_",
        "outputId": "e024b7b0-7a76-4a53-c424-e60ba9328db5"
      },
      "execution_count": 61,
      "outputs": [
        {
          "output_type": "stream",
          "name": "stdout",
          "text": [
            "Digite a altura da parede em METROS : 50\n",
            "Digite a largura da parede EM METROS : 10\n",
            "Area total é de 500 Metros\n",
            "A quantidade de tinta necessaria para pintar a Area informada é de 250.0 Litros\n"
          ]
        }
      ]
    },
    {
      "cell_type": "markdown",
      "source": [
        "##DESAFIO 012\n",
        "### Faça um algoritimo que leia o preço de um produto e mostre seu novo preço, com 5% de desconto."
      ],
      "metadata": {
        "id": "5-X0LrCWQKK4"
      }
    },
    {
      "cell_type": "code",
      "source": [
        "preco_produto = float(input(\"Digite o preço do produto: \"))\n",
        "desconto_produto = preco_produto * 0.05\n",
        "preco_total = preco_produto * 0.95\n",
        "print(\"O preço do produto com o desconto de 5% é de {} \".format(desconto_produto))\n",
        "print(\"O valor total do produto ficou em {} R$ \".format(preco_total))\n",
        "\n",
        "\n"
      ],
      "metadata": {
        "colab": {
          "base_uri": "https://localhost:8080/"
        },
        "id": "ZdstyJlhQe-a",
        "outputId": "c0c462d8-b131-4780-b09f-7937942f5412"
      },
      "execution_count": 71,
      "outputs": [
        {
          "output_type": "stream",
          "name": "stdout",
          "text": [
            "Digite o preço do produto: 50\n",
            "O preço do produto com o desconto de 5% é de 2.5 \n",
            "O valor total do produto ficou em 47.5 R$ \n"
          ]
        }
      ]
    },
    {
      "cell_type": "markdown",
      "source": [
        "##DESAFIO 013\n",
        "### Faça um algoritimo que leia o salario de um funcionario e mostre seu novo salario com 15% de aumento"
      ],
      "metadata": {
        "id": "mh8QqrPITFMs"
      }
    },
    {
      "cell_type": "code",
      "source": [
        "nome = input(\"Digite seu nome: \")\n",
        "nome_func = nome\n",
        "salario = 1500\n",
        "salario_mais = salario * 0.15\n",
        "novo_salario = salario + salario_mais\n",
        "print(\"Ola {}, seu salario atualmente é {} \".format(nome_func,salario))\n",
        "input(\"Voce teve um acrescimo de 15 % do seu salario aperte ENTER para visualizar seu novo salario!!\")\n",
        "print(\"O aumento do seu salario corresponde a: {} R$ e o total que voce recebera mensalmente a partir de hoje é de {} R$\".format(salario_mais,novo_salario))\n"
      ],
      "metadata": {
        "colab": {
          "base_uri": "https://localhost:8080/"
        },
        "id": "bbvkHEEbTWOM",
        "outputId": "9d4632da-c3d4-471a-9243-b4d126c7e03f"
      },
      "execution_count": 78,
      "outputs": [
        {
          "output_type": "stream",
          "name": "stdout",
          "text": [
            "Digite seu nome: augusto\n",
            "Ola augusto, seu salario atualmente é 1500 \n",
            "Voce teve um acrescimo de 15 % do seu salario aperte ENTER para visualizar seu novo salario!!\n",
            "O aumento do seu salario corresponde a: 225.0 R$ e o total que voce recebera mensalmente a partir de hoje é de 1725.0 R$\n"
          ]
        }
      ]
    }
  ]
}