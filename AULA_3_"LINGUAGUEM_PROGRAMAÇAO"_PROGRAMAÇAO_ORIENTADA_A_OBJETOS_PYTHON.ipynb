{
  "nbformat": 4,
  "nbformat_minor": 0,
  "metadata": {
    "colab": {
      "provenance": [],
      "authorship_tag": "ABX9TyMvydS9mLWyslLCZ4oFSZ0r",
      "include_colab_link": true
    },
    "kernelspec": {
      "name": "python3",
      "display_name": "Python 3"
    },
    "language_info": {
      "name": "python"
    }
  },
  "cells": [
    {
      "cell_type": "markdown",
      "metadata": {
        "id": "view-in-github",
        "colab_type": "text"
      },
      "source": [
        "<a href=\"https://colab.research.google.com/github/AugustoNicoletti/projetoteste/blob/master/AULA_3_%22LINGUAGUEM_PROGRAMA%C3%87AO%22_PROGRAMA%C3%87AO_ORIENTADA_A_OBJETOS_PYTHON.ipynb\" target=\"_parent\"><img src=\"https://colab.research.google.com/assets/colab-badge.svg\" alt=\"Open In Colab\"/></a>"
      ]
    },
    {
      "cell_type": "markdown",
      "source": [
        "### Exemplo Codigo peso bolo\n",
        "```\n",
        "\n"
      ],
      "metadata": {
        "id": "DaFJSVjQyA5s"
      }
    },
    {
      "cell_type": "code",
      "execution_count": 12,
      "metadata": {
        "colab": {
          "base_uri": "https://localhost:8080/"
        },
        "id": "NgkNUug-x_ID",
        "outputId": "3ebc751c-dddd-4f6a-f29f-0dbc18022490"
      },
      "outputs": [
        {
          "output_type": "stream",
          "name": "stdout",
          "text": [
            "2\n",
            "2\n"
          ]
        }
      ],
      "source": [
        "class Bolo:\n",
        "  peso = 0\n",
        "\n",
        "  def __init__(self,peso_inicial=0):\n",
        "    self.peso = peso_inicial\n",
        "\n",
        "  def atribuir_peso (self,peso_a_atribuir):\n",
        "    self.peso = peso_a_atribuir\n",
        "\n",
        "bolo_aniversario = Bolo ()\n",
        "print(bolo_aniversario.peso)\n",
        "\n",
        "bolo_aniversario.atribuir_peso(2)\n",
        "print(bolo_aniversario.peso)"
      ]
    },
    {
      "cell_type": "markdown",
      "source": [
        "### Closures"
      ],
      "metadata": {
        "id": "DZuvNHPR1O4D"
      }
    },
    {
      "cell_type": "code",
      "source": [
        "def calcular_volume_area_base (area_base):\n",
        "  constante = 3\n",
        "\n",
        "\n",
        "  def calcular_volume_piramide (altura):\n",
        "   return(area_base*altura)/constante\n",
        "  return calcular_volume_piramide\n",
        "\n",
        "\n",
        "#closure\n",
        "piramide = calcular_volume_area_base(15) # area base\n",
        "piramide(2) #altura"
      ],
      "metadata": {
        "colab": {
          "base_uri": "https://localhost:8080/"
        },
        "id": "5UP1zx4U1U1g",
        "outputId": "1ce58889-efb8-4e9d-a7e1-4c0dd02f842a"
      },
      "execution_count": 26,
      "outputs": [
        {
          "output_type": "execute_result",
          "data": {
            "text/plain": [
              "10.0"
            ]
          },
          "metadata": {},
          "execution_count": 26
        }
      ]
    },
    {
      "cell_type": "markdown",
      "source": [
        "AULA PRATICA"
      ],
      "metadata": {
        "id": "XMb20ncv3edl"
      }
    },
    {
      "cell_type": "code",
      "source": [
        "print(type (\"ola\"))\n",
        "print(type (1))\n",
        "print(type (1.5))\n",
        "\n",
        "\"ola\".upper()\n",
        "\n"
      ],
      "metadata": {
        "colab": {
          "base_uri": "https://localhost:8080/",
          "height": 90
        },
        "id": "PRdQiWEi3i9b",
        "outputId": "72a646d9-d95f-461d-f8fc-f69913e63806"
      },
      "execution_count": 33,
      "outputs": [
        {
          "output_type": "stream",
          "name": "stdout",
          "text": [
            "<class 'str'>\n",
            "<class 'int'>\n",
            "<class 'float'>\n"
          ]
        },
        {
          "output_type": "execute_result",
          "data": {
            "text/plain": [
              "'OLA'"
            ],
            "application/vnd.google.colaboratory.intrinsic+json": {
              "type": "string"
            }
          },
          "metadata": {},
          "execution_count": 33
        }
      ]
    },
    {
      "cell_type": "code",
      "source": [
        "class jogador:\n",
        "  def jogar(self):\n",
        "    print('Metodo jogar foi inicializado')\n",
        "\n",
        "j1 = jogador()\n",
        "j1.jogar()"
      ],
      "metadata": {
        "colab": {
          "base_uri": "https://localhost:8080/"
        },
        "id": "aL37rzEu4A0F",
        "outputId": "303e2a0d-7c21-4db5-a2d0-09a1da20d13a"
      },
      "execution_count": 34,
      "outputs": [
        {
          "output_type": "stream",
          "name": "stdout",
          "text": [
            "Metodo jogar foi inicializado\n"
          ]
        }
      ]
    },
    {
      "cell_type": "markdown",
      "source": [
        "##CLASSE MAE"
      ],
      "metadata": {
        "id": "-7R72264_LdO"
      }
    },
    {
      "cell_type": "code",
      "source": [
        "class pessoa:\n",
        "  def __init__(self,nome,idade):\n",
        "    self.nome=nome\n",
        "    self.idade=idade\n",
        "\n",
        "  def apresentar(self):\n",
        "   print(f\"Olá meu nome é {self.nome} e minha idade é {self.idade}\")\n",
        "\n",
        "p1 = pessoa(\"mario\",30)\n",
        "p1.apresentar()\n",
        "\n",
        "p2 = pessoa(\"luigi\",25)\n",
        "p2.apresentar()\n"
      ],
      "metadata": {
        "colab": {
          "base_uri": "https://localhost:8080/"
        },
        "id": "wZLZujSi4XIc",
        "outputId": "f06d53e3-6829-448f-9f9f-c32676305d5f"
      },
      "execution_count": 36,
      "outputs": [
        {
          "output_type": "stream",
          "name": "stdout",
          "text": [
            "Olá meu nome é mario e minha idade é 30\n",
            "Olá meu nome é luigi e minha idade é 25\n"
          ]
        }
      ]
    },
    {
      "cell_type": "markdown",
      "source": [
        "##CLASSE FILHO"
      ],
      "metadata": {
        "id": "f9rU_QDm_Osc"
      }
    },
    {
      "cell_type": "code",
      "source": [
        "class funcionario(pessoa):\n",
        "  #pass\n",
        "  def __init__(self,nome,idade,cadastro):\n",
        "    self.nome=nome\n",
        "    self.idade=idade\n",
        "    self.cadastro=cadastro\n",
        "\n",
        "  def apresentar(self):\n",
        "   print(f\"Olá sou o funcionario(a) {self.nome} e minha idade é {self.idade}\")\n",
        "\n",
        "f1 = funcionario('vanessa',20,1001)\n",
        "f2 = funcionario('marcos',36,882)\n",
        "\n",
        "f1.apresentar()\n",
        "print(\"cadastro:\",f1.cadastro)\n",
        "\n",
        "f2.apresentar()\n",
        "print(\"cadastro:\",f2.cadastro)\n",
        "\n"
      ],
      "metadata": {
        "colab": {
          "base_uri": "https://localhost:8080/"
        },
        "id": "6cRtCiwC54C9",
        "outputId": "add1873e-6dd6-4f8b-b70c-0c87ccb275fa"
      },
      "execution_count": 47,
      "outputs": [
        {
          "output_type": "stream",
          "name": "stdout",
          "text": [
            "Olá sou o funcionario(a) vanessa e minha idade é 20\n",
            "cadastro: 1001\n",
            "Olá sou o funcionario(a) marcos e minha idade é 36\n",
            "cadastro: 882\n"
          ]
        }
      ]
    },
    {
      "cell_type": "markdown",
      "source": [
        "##CLASSE FILHO METODO PARA ENCURTAR O CODIGO APROVEITANDO CLASSE MAE"
      ],
      "metadata": {
        "id": "Svz_GaQU_RHc"
      }
    },
    {
      "cell_type": "code",
      "source": [
        "class cliente(pessoa):\n",
        "  quantidadeclientes=0 #variavel static todos clientes tem acesso ao mesmo valor\n",
        "  def __init__(self,nome,idade):\n",
        "    super().__init__(nome,idade)\n",
        "    cliente.quantidadeclientes+=1\n",
        "    self.cadastro=210+cliente.quantidadeclientes\n",
        "\n",
        "  def apresentar(self):\n",
        "    super().apresentar()\n",
        "    print(f\"e sou cliente de cadastro: {self.cadastro}\")\n",
        "\n",
        "c1=cliente(\"tarso\",20)\n",
        "c2=cliente(\"renato\",25)\n",
        "\n",
        "c1.apresentar()\n",
        "c2.apresentar()\n",
        "\n"
      ],
      "metadata": {
        "colab": {
          "base_uri": "https://localhost:8080/"
        },
        "id": "93TNN44q8ZBO",
        "outputId": "d3a42e17-2cdc-442d-960c-01f6cb4b7277"
      },
      "execution_count": 52,
      "outputs": [
        {
          "output_type": "stream",
          "name": "stdout",
          "text": [
            "Olá meu nome é tarso e minha idade é 20\n",
            "e sou cliente de cadastro: 211\n",
            "Olá meu nome é renato e minha idade é 25\n",
            "e sou cliente de cadastro: 212\n"
          ]
        }
      ]
    },
    {
      "cell_type": "code",
      "source": [
        "from traitlets.config import T\n",
        "class Aluno:\n",
        "  totalAlunos=0\n",
        "  def __init__(self,nome,nota):\n",
        "    Aluno.totalAlunos+=1\n",
        "    self.nome=nome\n",
        "    self.nota=nota\n",
        "    self.ru=1000 +Aluno.totalAlunos\n",
        "\n",
        "  def info(self):\n",
        "    print(f'Nome: {self.nome}; RU: {self.ru}; Nota: {self.nota};')\n",
        "\n",
        "  def getNota(self):\n",
        "    return self.nota\n",
        "\n",
        "#a1 =Aluno(\"mario\",90)\n",
        "#a1.info()\n",
        "\n",
        "class Turma:\n",
        "  def __init__(self,nome,limiteAlunos):\n",
        "    self.nome=nome\n",
        "    self.limiteAlunos=limiteAlunos\n",
        "    self.listaAlunos=[]\n",
        "  def addAluno(self,aluno):\n",
        "    if len(self.listaAlunos) <self.limiteAlunos:\n",
        "      self.listaAlunos.append(aluno)\n",
        "      return True\n",
        "    return False\n",
        "\n",
        "\n",
        "  def mediaTurma(self):\n",
        "    soma=0\n",
        "    for aluno in self.listaAlunos:\n",
        "      soma+=aluno.getNota()\n",
        "    return soma/len(self.listaAlunos)\n",
        "\n",
        "a1 = Aluno(\"mario\",90)\n",
        "a2 = Aluno(\"luis\",75)\n",
        "a3 = Aluno(\"sergio\",50)\n",
        "\n",
        "t1 = Turma('programaçao',5)\n",
        "t1.addAluno(a1)\n",
        "t1.addAluno(a2)\n",
        "t1.addAluno(a3)\n",
        "t1.addAluno( Aluno('cleber',100))\n",
        "\n",
        "print(t1.addAluno(a3))\n",
        "\n",
        "print(t1.mediaTurma())\n",
        "print(t1.listaAlunos[1].getNota())"
      ],
      "metadata": {
        "colab": {
          "base_uri": "https://localhost:8080/"
        },
        "id": "jP0FfqPe_gc2",
        "outputId": "a1996f80-7476-4ce5-dcdf-24752a78a230"
      },
      "execution_count": 76,
      "outputs": [
        {
          "output_type": "stream",
          "name": "stdout",
          "text": [
            "True\n",
            "73.0\n",
            "75\n"
          ]
        }
      ]
    }
  ]
}