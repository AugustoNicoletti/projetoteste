{
  "nbformat": 4,
  "nbformat_minor": 0,
  "metadata": {
    "colab": {
      "provenance": [],
      "authorship_tag": "ABX9TyOYEwJn+qXj7ag+tEFjTdLy",
      "include_colab_link": true
    },
    "kernelspec": {
      "name": "python3",
      "display_name": "Python 3"
    },
    "language_info": {
      "name": "python"
    }
  },
  "cells": [
    {
      "cell_type": "markdown",
      "metadata": {
        "id": "view-in-github",
        "colab_type": "text"
      },
      "source": [
        "<a href=\"https://colab.research.google.com/github/AugustoNicoletti/projetoteste/blob/master/AULA4_LINGUAGEM_DE_PROGRAMA%C3%87AO_PERSIST%C3%8ANCIA_EM_ARQUIVO%2C_PERSIST%C3%8ANCIA_EM_NUVEM%2C_BANCO_DE_DADOS_SQLite%2C_JSON.ipynb\" target=\"_parent\"><img src=\"https://colab.research.google.com/assets/colab-badge.svg\" alt=\"Open In Colab\"/></a>"
      ]
    },
    {
      "cell_type": "markdown",
      "source": [
        "## Conexao com drive"
      ],
      "metadata": {
        "id": "sKbzvBkt2RwV"
      }
    },
    {
      "cell_type": "markdown",
      "source": [
        "\n",
        "\n",
        "  "
      ],
      "metadata": {
        "id": "uHoK5Qvi6fqA"
      }
    },
    {
      "cell_type": "code",
      "source": [
        "from google.colab import drive\n",
        "\n",
        "# Montar o Google Drive\n",
        "drive.mount('/content/drive')\n",
        "\n",
        "# Copiar a pasta para o diretório do Colab\n",
        "!cp -r \"/content/drive/MyDrive/AULA4_LINGUAGEM_PROGRAMAÇAO\" \"/content\"\n"
      ],
      "metadata": {
        "colab": {
          "base_uri": "https://localhost:8080/"
        },
        "id": "UROXNVZa188r",
        "outputId": "ffc0f49c-037e-4356-a05d-a3cb0ec8c94b"
      },
      "execution_count": 7,
      "outputs": [
        {
          "output_type": "stream",
          "name": "stdout",
          "text": [
            "Drive already mounted at /content/drive; to attempt to forcibly remount, call drive.mount(\"/content/drive\", force_remount=True).\n"
          ]
        }
      ]
    },
    {
      "cell_type": "markdown",
      "source": [
        "Apos a importaçao dos arquivos, podemos realizar a manipulaçao dos arquivos.\n",
        "\n",
        "De forma geral, podemos realizar a abertura, leitura, escrita e fechamento de qualquer arquivo em formato de texto simples com os comandos phyton abaixo:\n",
        "\n",
        "Arquivo = open(nome do arquivo,tipo de de abertura*)\n",
        "\n",
        "*Nome do arquivo deve ser uma string com o caminho e nome do seu arquivo.\n",
        "\n",
        "*tipo de abertura pode ser: \"r\" para ler (erro se o arquivo nao existir) \"r+\" para ler (erro se arquivo nao existir) e escrever (no inicio do arquivo) \"w\" cria novo arquivo ou substitui existente (apaga conteudo antigo) e escreve (no inicio do arquivo) \"a\" cria novo arquivo ou abre existente e escreve (no fim do arquivo) \"a+\" cria novo arquivo ou abre ecistente e le e escreve ( no fim do arquivo)\n",
        "\n",
        "arquivo.write(string_qualquer) arquivo.close()"
      ],
      "metadata": {
        "id": "gHaBpq5173Z4"
      }
    },
    {
      "cell_type": "code",
      "source": [
        "arquivo = open ('exemplo_simples.txt', 'w+')\n",
        "arquivo.write('Olá mundo\\nEsta é a segunda linha\\nEsta é a terceira linha\\n')\n",
        "arquivo.seek(0)\n",
        "conteudo = arquivo.read()\n",
        "print(conteudo)"
      ],
      "metadata": {
        "colab": {
          "base_uri": "https://localhost:8080/"
        },
        "id": "Hjj_-j8i6AsR",
        "outputId": "8d4fddc5-316f-4907-b680-e7ecb5803e3c"
      },
      "execution_count": 8,
      "outputs": [
        {
          "output_type": "stream",
          "name": "stdout",
          "text": [
            "Olá mundo\n",
            "Esta é a segunda linha\n",
            "Esta é a terceira linha\n",
            "\n"
          ]
        }
      ]
    },
    {
      "cell_type": "code",
      "source": [
        "#.tell() mostra a posiçao atual do cursor\n",
        "#arquivo.tell()\n"
      ],
      "metadata": {
        "id": "V1T3DhLc79_O"
      },
      "execution_count": 60,
      "outputs": []
    },
    {
      "cell_type": "markdown",
      "source": [
        "Apos a abertura e manipulaçao de um arquivo, devemos fecha-lo, para que o arquivo seja liberado para outros programas:"
      ],
      "metadata": {
        "id": "xV3FLhTw8Q5I"
      }
    },
    {
      "cell_type": "code",
      "source": [
        "arquivo.close()"
      ],
      "metadata": {
        "id": "5Q7G9oCS8QXO"
      },
      "execution_count": 13,
      "outputs": []
    },
    {
      "cell_type": "markdown",
      "source": [
        "Aqui no google coolab, se quisermos abrir um arquivo pela linha de comando do linux, usamos o acesso ! para usar comandos linux e o comando cat para ver o conteudo de um arquivo:"
      ],
      "metadata": {
        "id": "p_efQfHN8e6G"
      }
    },
    {
      "cell_type": "code",
      "source": [
        "!cat exemplo_simples.txt"
      ],
      "metadata": {
        "colab": {
          "base_uri": "https://localhost:8080/"
        },
        "id": "1LqTLJ_G8eZu",
        "outputId": "ae381c2f-dce8-45c3-da23-7101e7670c9e"
      },
      "execution_count": 15,
      "outputs": [
        {
          "output_type": "stream",
          "name": "stdout",
          "text": [
            "Olá mundo\n",
            "Esta é a segunda linha\n",
            "Esta é a terceira linha\n"
          ]
        }
      ]
    },
    {
      "cell_type": "markdown",
      "source": [
        "podemos usar o gerenciamento do contexto com o comando with para abrir e manipular arquivos em python\n",
        "\n",
        "esta estrategia fecha o arquivo automaticamente quando o contexto se encerra (saida do comando with"
      ],
      "metadata": {
        "id": "7HfsVewl89ov"
      }
    },
    {
      "cell_type": "code",
      "source": [
        " with open('exemplo_simples.txt', 'a+') as arquivo:\n",
        "    arquivo.write('Quarta linha é feita com uso do gerenciamento de contexto\\n'+\\\n",
        "                  'Esta é a quinta linha e foi feita da mesma forma\\n ')"
      ],
      "metadata": {
        "id": "s-DQ5nzk896A"
      },
      "execution_count": 17,
      "outputs": []
    },
    {
      "cell_type": "code",
      "source": [
        "!cat exemplo_simples.txt"
      ],
      "metadata": {
        "colab": {
          "base_uri": "https://localhost:8080/"
        },
        "id": "z7fDQIGc9_k_",
        "outputId": "91e40c64-a051-48b5-977d-5f52ada57c77"
      },
      "execution_count": 18,
      "outputs": [
        {
          "output_type": "stream",
          "name": "stdout",
          "text": [
            "Olá mundo\n",
            "Esta é a segunda linha\n",
            "Esta é a terceira linha\n",
            "Quarta linha é feita com uso do gerenciamento de contexto\n",
            "Esta é a quinta linha e foi feita da mesma forma\n",
            " "
          ]
        }
      ]
    },
    {
      "cell_type": "markdown",
      "source": [
        "importar biblioteca panda"
      ],
      "metadata": {
        "id": "FuZPkAkdA7cF"
      }
    },
    {
      "cell_type": "code",
      "source": [
        "import pandas as pd"
      ],
      "metadata": {
        "id": "rgbB1wg4Amu1"
      },
      "execution_count": 19,
      "outputs": []
    },
    {
      "cell_type": "markdown",
      "source": [
        "Atualizar linux do colab"
      ],
      "metadata": {
        "id": "3lgw1Ua-A4tM"
      }
    },
    {
      "cell_type": "code",
      "source": [
        "!sudo apt-get update"
      ],
      "metadata": {
        "colab": {
          "base_uri": "https://localhost:8080/"
        },
        "id": "IYfAXLAfApQL",
        "outputId": "e839597e-222d-4406-cf7c-cd112c920ffa"
      },
      "execution_count": 20,
      "outputs": [
        {
          "output_type": "stream",
          "name": "stdout",
          "text": [
            "Get:1 https://cloud.r-project.org/bin/linux/ubuntu focal-cran40/ InRelease [3,622 B]\n",
            "Get:2 https://developer.download.nvidia.com/compute/cuda/repos/ubuntu2004/x86_64  InRelease [1,581 B]\n",
            "Get:3 http://security.ubuntu.com/ubuntu focal-security InRelease [114 kB]\n",
            "Hit:4 http://archive.ubuntu.com/ubuntu focal InRelease\n",
            "Get:5 http://archive.ubuntu.com/ubuntu focal-updates InRelease [114 kB]\n",
            "Get:6 https://cloud.r-project.org/bin/linux/ubuntu focal-cran40/ Packages [79.8 kB]\n",
            "Hit:7 http://ppa.launchpad.net/c2d4u.team/c2d4u4.0+/ubuntu focal InRelease\n",
            "Get:8 https://developer.download.nvidia.com/compute/cuda/repos/ubuntu2004/x86_64  Packages [1,059 kB]\n",
            "Get:9 http://archive.ubuntu.com/ubuntu focal-backports InRelease [108 kB]\n",
            "Hit:10 http://ppa.launchpad.net/cran/libgit2/ubuntu focal InRelease\n",
            "Hit:11 http://ppa.launchpad.net/deadsnakes/ppa/ubuntu focal InRelease\n",
            "Get:12 http://archive.ubuntu.com/ubuntu focal-updates/universe amd64 Packages [1,360 kB]\n",
            "Hit:13 http://ppa.launchpad.net/graphics-drivers/ppa/ubuntu focal InRelease\n",
            "Get:14 http://archive.ubuntu.com/ubuntu focal-updates/main amd64 Packages [3,299 kB]\n",
            "Hit:15 http://ppa.launchpad.net/ubuntugis/ppa/ubuntu focal InRelease\n",
            "Fetched 6,139 kB in 2s (3,553 kB/s)\n",
            "Reading package lists... Done\n"
          ]
        }
      ]
    },
    {
      "cell_type": "code",
      "source": [
        "#descoberta da pasta JAVA deste linux\n",
        "JAVA_FOLDER = !readlink -f /usr/bin/java | sed 's:bin/java::'\n",
        "\n",
        "#configuraçao de variaveis de ambiente\n",
        "import os\n",
        "os.environ[\"JAVA_HOME\"] = JAVA_FOLDER[0]\n",
        "os.environ[\"PATH\"] += os.pathsep + os.environ[\"JAVA_HOME\"] + \"/bin\"\n",
        "\n",
        "os.environ[\"SPARK_HOME\"] = 'usr/local/spark'\n",
        "os.environ['PATH'] += os.pathsep + os.environ['SPARK_HOME'] + '/bin'\n",
        "\n",
        "#opçoes para uso do spark com xml:\n",
        "\n",
        "os.environ['PYSPARK_SUBMIT_ARGS'] = \"--packages com.databricks:spark-xml_2.12:0.15.0 pyspark-shell\"\n"
      ],
      "metadata": {
        "id": "losfPMfFA_t8"
      },
      "execution_count": 37,
      "outputs": []
    },
    {
      "cell_type": "code",
      "source": [
        "#instalaçao do SPARK (40 a 120 segundos de execuçao, depende da velocidade de conexao.)\n",
        "!wget -q -O spark.tgz https://archive.apache.org/dist/spark/spark-3.3.0/spark-3.3.0-bin-hadoop3.tgz\n",
        "!tar xf spark.tgz\n",
        "!mv ./spark-* /usr/local/spark\n",
        "!pip install -q findspark\n",
        "!rm spark.tgz"
      ],
      "metadata": {
        "colab": {
          "base_uri": "https://localhost:8080/"
        },
        "id": "oWgMmcFRClHE",
        "outputId": "3da3a00b-4829-4def-abfe-897b5cb6d397"
      },
      "execution_count": 34,
      "outputs": [
        {
          "output_type": "stream",
          "name": "stdout",
          "text": [
            "mv: cannot move './spark-3.3.0-bin-hadoop3' to '/usr/local/spark/spark-3.3.0-bin-hadoop3': Directory not empty\n"
          ]
        }
      ]
    },
    {
      "cell_type": "code",
      "source": [
        "import findspark\n",
        "findspark.init(os.environ['SPARK_HOME'])"
      ],
      "metadata": {
        "id": "miRe_xEpDxTT"
      },
      "execution_count": 41,
      "outputs": []
    },
    {
      "cell_type": "code",
      "source": [
        "#CODIGO CASO DE ERRO NO SPARK_HOME\"\n",
        "import os\n",
        "os.environ[\"SPARK_HOME\"] = \"/usr/local/spark\"\n"
      ],
      "metadata": {
        "id": "9D8OAyCrE4Qy"
      },
      "execution_count": 40,
      "outputs": []
    },
    {
      "cell_type": "code",
      "source": [
        "#Criaçao do objeto SparkSession para uso do pyspark.sql\n",
        "from pyspark.sql import SparkSession\n",
        "appName = 'PySpark Aula 4'\n",
        "master = 'local[*]'\n",
        "\n",
        "spark = SparkSession.builder\\\n",
        "    .appName(appName)\\\n",
        "    .master(master)\\\n",
        "    .getOrCreate()"
      ],
      "metadata": {
        "id": "u_pPhQHzFC-i"
      },
      "execution_count": 45,
      "outputs": []
    },
    {
      "cell_type": "markdown",
      "source": [
        "##Leitura de arquivos XML e Json com PANDAS\n",
        "\n",
        "Com o PANDAS, para importar um arquivo e ja formata-lo com dataframe, usamos os metodos de leitura:\n",
        "\n",
        "pandas.read_xml\n",
        "pandas.read_json\n",
        "pandas.read_csv\n",
        "pandas.read_parquet\n",
        "pandas.read_sql\n",
        "pandas.read_excel\n",
        "pandas.read_html\n",
        "pandas.read_faether\n",
        "pandas.read_pickle\n",
        "pandas.read_clipboard\n",
        "....\n",
        "\n",
        "Da mesma forma, podemos salvar os dados de um dataframe em um arquivo, usando os metodos de escrita:\n",
        "\n",
        "\n",
        "pandas.to_xml\n",
        "pandas.to_json\n",
        "pandas.to_csv\n",
        "pandas.to_parquet\n",
        "pandas.to_sql\n",
        "pandas.to_pickle\n",
        "pandas.to_excel\n",
        "pandas.to_clipboard\n",
        "....."
      ],
      "metadata": {
        "id": "zHBjX1BRFrXc"
      }
    },
    {
      "cell_type": "code",
      "source": [
        "!cat /content/AULA4_LINGUAGEM_PROGRAMAÇAO/Badges-small.xml\n"
      ],
      "metadata": {
        "colab": {
          "base_uri": "https://localhost:8080/"
        },
        "id": "DLFlp7MoJbz_",
        "outputId": "411ffc21-f8cd-48b1-b01c-78e3bf540b2d"
      },
      "execution_count": 47,
      "outputs": [
        {
          "output_type": "stream",
          "name": "stdout",
          "text": [
            "<?xml version=\"1.0\" encoding=\"utf-8\"?>\r\n",
            "<Root>\r\n",
            "\t<badges>\r\n",
            "\t\t<row Id=\"82946\" UserId=\"3718\" Name=\"Teacher\" Date=\"2008-09-15T08:55:03.923\" Class=\"3\" TagBased=\"False\" />\r\n",
            "\t\t<row Id=\"82947\" UserId=\"994\" Name=\"Teacher\" Date=\"2008-09-15T08:55:03.957\" Class=\"3\" TagBased=\"False\" />\r\n",
            "\t\t<row Id=\"82949\" UserId=\"3893\" Name=\"Teacher\" Date=\"2008-09-15T08:55:03.957\" Class=\"3\" TagBased=\"False\" />\r\n",
            "\t\t<row Id=\"82950\" UserId=\"4591\" Name=\"Teacher\" Date=\"2008-09-15T08:55:03.957\" Class=\"3\" TagBased=\"False\" />\r\n",
            "\t\t<row Id=\"82951\" UserId=\"5196\" Name=\"Teacher\" Date=\"2008-09-15T08:55:03.957\" Class=\"3\" TagBased=\"False\" />\r\n",
            "\t</badges>\r\n",
            "</Root>"
          ]
        }
      ]
    },
    {
      "cell_type": "code",
      "source": [
        "!ls -lh /content/AULA4_LINGUAGEM_PROGRAMAÇAO/Badges-small.xml | awk '{print \"Arquivo: \" $9 \"\\nTamanho: \" $5}'\n",
        "!echo \"\"\n",
        "!echo \"Conteúdo do arquivo Badges-small.xml\"\n",
        "!echo \"\"\n",
        "!cat /content/AULA4_LINGUAGEM_PROGRAMAÇAO/Badges-small.xml\n",
        "\n"
      ],
      "metadata": {
        "colab": {
          "base_uri": "https://localhost:8080/"
        },
        "id": "DC0fZg-tHD6y",
        "outputId": "f0c27f0b-0573-4fb3-f66c-bae155aea123"
      },
      "execution_count": 52,
      "outputs": [
        {
          "output_type": "stream",
          "name": "stdout",
          "text": [
            "Arquivo: /content/AULA4_LINGUAGEM_PROGRAMAÇAO/Badges-small.xml\n",
            "Tamanho: 622\n",
            "\n",
            "Conteúdo do arquivo Badges-small.xml\n",
            "\n",
            "<?xml version=\"1.0\" encoding=\"utf-8\"?>\n",
            "<Root>\n",
            "\t<badges>\n",
            "\t\t<row Id=\"82946\" UserId=\"3718\" Name=\"Teacher\" Date=\"2008-09-15T08:55:03.923\" Class=\"3\" TagBased=\"False\" />\n",
            "\t\t<row Id=\"82947\" UserId=\"994\" Name=\"Teacher\" Date=\"2008-09-15T08:55:03.957\" Class=\"3\" TagBased=\"False\" />\n",
            "\t\t<row Id=\"82949\" UserId=\"3893\" Name=\"Teacher\" Date=\"2008-09-15T08:55:03.957\" Class=\"3\" TagBased=\"False\" />\n",
            "\t\t<row Id=\"82950\" UserId=\"4591\" Name=\"Teacher\" Date=\"2008-09-15T08:55:03.957\" Class=\"3\" TagBased=\"False\" />\n",
            "\t\t<row Id=\"82951\" UserId=\"5196\" Name=\"Teacher\" Date=\"2008-09-15T08:55:03.957\" Class=\"3\" TagBased=\"False\" />\n",
            "\t</badges>\n",
            "</Root>"
          ]
        }
      ]
    },
    {
      "cell_type": "code",
      "source": [
        "pddf_xml = pd.read_xml('/content/AULA4_LINGUAGEM_PROGRAMAÇAO/Badges-small.xml',xpath='.//row')"
      ],
      "metadata": {
        "id": "XZi6ltRlKaZy"
      },
      "execution_count": 57,
      "outputs": []
    },
    {
      "cell_type": "code",
      "source": [
        "pddf_xml.head()"
      ],
      "metadata": {
        "colab": {
          "base_uri": "https://localhost:8080/",
          "height": 206
        },
        "id": "Xy4u3fZrKyTV",
        "outputId": "ba10926d-378f-4cb3-8367-9bd068f0a958"
      },
      "execution_count": 58,
      "outputs": [
        {
          "output_type": "execute_result",
          "data": {
            "text/plain": [
              "      Id  UserId     Name                     Date  Class  TagBased\n",
              "0  82946    3718  Teacher  2008-09-15T08:55:03.923      3     False\n",
              "1  82947     994  Teacher  2008-09-15T08:55:03.957      3     False\n",
              "2  82949    3893  Teacher  2008-09-15T08:55:03.957      3     False\n",
              "3  82950    4591  Teacher  2008-09-15T08:55:03.957      3     False\n",
              "4  82951    5196  Teacher  2008-09-15T08:55:03.957      3     False"
            ],
            "text/html": [
              "\n",
              "  <div id=\"df-6a18b8a2-e045-4011-a86b-a2888a0b025f\">\n",
              "    <div class=\"colab-df-container\">\n",
              "      <div>\n",
              "<style scoped>\n",
              "    .dataframe tbody tr th:only-of-type {\n",
              "        vertical-align: middle;\n",
              "    }\n",
              "\n",
              "    .dataframe tbody tr th {\n",
              "        vertical-align: top;\n",
              "    }\n",
              "\n",
              "    .dataframe thead th {\n",
              "        text-align: right;\n",
              "    }\n",
              "</style>\n",
              "<table border=\"1\" class=\"dataframe\">\n",
              "  <thead>\n",
              "    <tr style=\"text-align: right;\">\n",
              "      <th></th>\n",
              "      <th>Id</th>\n",
              "      <th>UserId</th>\n",
              "      <th>Name</th>\n",
              "      <th>Date</th>\n",
              "      <th>Class</th>\n",
              "      <th>TagBased</th>\n",
              "    </tr>\n",
              "  </thead>\n",
              "  <tbody>\n",
              "    <tr>\n",
              "      <th>0</th>\n",
              "      <td>82946</td>\n",
              "      <td>3718</td>\n",
              "      <td>Teacher</td>\n",
              "      <td>2008-09-15T08:55:03.923</td>\n",
              "      <td>3</td>\n",
              "      <td>False</td>\n",
              "    </tr>\n",
              "    <tr>\n",
              "      <th>1</th>\n",
              "      <td>82947</td>\n",
              "      <td>994</td>\n",
              "      <td>Teacher</td>\n",
              "      <td>2008-09-15T08:55:03.957</td>\n",
              "      <td>3</td>\n",
              "      <td>False</td>\n",
              "    </tr>\n",
              "    <tr>\n",
              "      <th>2</th>\n",
              "      <td>82949</td>\n",
              "      <td>3893</td>\n",
              "      <td>Teacher</td>\n",
              "      <td>2008-09-15T08:55:03.957</td>\n",
              "      <td>3</td>\n",
              "      <td>False</td>\n",
              "    </tr>\n",
              "    <tr>\n",
              "      <th>3</th>\n",
              "      <td>82950</td>\n",
              "      <td>4591</td>\n",
              "      <td>Teacher</td>\n",
              "      <td>2008-09-15T08:55:03.957</td>\n",
              "      <td>3</td>\n",
              "      <td>False</td>\n",
              "    </tr>\n",
              "    <tr>\n",
              "      <th>4</th>\n",
              "      <td>82951</td>\n",
              "      <td>5196</td>\n",
              "      <td>Teacher</td>\n",
              "      <td>2008-09-15T08:55:03.957</td>\n",
              "      <td>3</td>\n",
              "      <td>False</td>\n",
              "    </tr>\n",
              "  </tbody>\n",
              "</table>\n",
              "</div>\n",
              "      <button class=\"colab-df-convert\" onclick=\"convertToInteractive('df-6a18b8a2-e045-4011-a86b-a2888a0b025f')\"\n",
              "              title=\"Convert this dataframe to an interactive table.\"\n",
              "              style=\"display:none;\">\n",
              "        \n",
              "  <svg xmlns=\"http://www.w3.org/2000/svg\" height=\"24px\"viewBox=\"0 0 24 24\"\n",
              "       width=\"24px\">\n",
              "    <path d=\"M0 0h24v24H0V0z\" fill=\"none\"/>\n",
              "    <path d=\"M18.56 5.44l.94 2.06.94-2.06 2.06-.94-2.06-.94-.94-2.06-.94 2.06-2.06.94zm-11 1L8.5 8.5l.94-2.06 2.06-.94-2.06-.94L8.5 2.5l-.94 2.06-2.06.94zm10 10l.94 2.06.94-2.06 2.06-.94-2.06-.94-.94-2.06-.94 2.06-2.06.94z\"/><path d=\"M17.41 7.96l-1.37-1.37c-.4-.4-.92-.59-1.43-.59-.52 0-1.04.2-1.43.59L10.3 9.45l-7.72 7.72c-.78.78-.78 2.05 0 2.83L4 21.41c.39.39.9.59 1.41.59.51 0 1.02-.2 1.41-.59l7.78-7.78 2.81-2.81c.8-.78.8-2.07 0-2.86zM5.41 20L4 18.59l7.72-7.72 1.47 1.35L5.41 20z\"/>\n",
              "  </svg>\n",
              "      </button>\n",
              "      \n",
              "  <style>\n",
              "    .colab-df-container {\n",
              "      display:flex;\n",
              "      flex-wrap:wrap;\n",
              "      gap: 12px;\n",
              "    }\n",
              "\n",
              "    .colab-df-convert {\n",
              "      background-color: #E8F0FE;\n",
              "      border: none;\n",
              "      border-radius: 50%;\n",
              "      cursor: pointer;\n",
              "      display: none;\n",
              "      fill: #1967D2;\n",
              "      height: 32px;\n",
              "      padding: 0 0 0 0;\n",
              "      width: 32px;\n",
              "    }\n",
              "\n",
              "    .colab-df-convert:hover {\n",
              "      background-color: #E2EBFA;\n",
              "      box-shadow: 0px 1px 2px rgba(60, 64, 67, 0.3), 0px 1px 3px 1px rgba(60, 64, 67, 0.15);\n",
              "      fill: #174EA6;\n",
              "    }\n",
              "\n",
              "    [theme=dark] .colab-df-convert {\n",
              "      background-color: #3B4455;\n",
              "      fill: #D2E3FC;\n",
              "    }\n",
              "\n",
              "    [theme=dark] .colab-df-convert:hover {\n",
              "      background-color: #434B5C;\n",
              "      box-shadow: 0px 1px 3px 1px rgba(0, 0, 0, 0.15);\n",
              "      filter: drop-shadow(0px 1px 2px rgba(0, 0, 0, 0.3));\n",
              "      fill: #FFFFFF;\n",
              "    }\n",
              "  </style>\n",
              "\n",
              "      <script>\n",
              "        const buttonEl =\n",
              "          document.querySelector('#df-6a18b8a2-e045-4011-a86b-a2888a0b025f button.colab-df-convert');\n",
              "        buttonEl.style.display =\n",
              "          google.colab.kernel.accessAllowed ? 'block' : 'none';\n",
              "\n",
              "        async function convertToInteractive(key) {\n",
              "          const element = document.querySelector('#df-6a18b8a2-e045-4011-a86b-a2888a0b025f');\n",
              "          const dataTable =\n",
              "            await google.colab.kernel.invokeFunction('convertToInteractive',\n",
              "                                                     [key], {});\n",
              "          if (!dataTable) return;\n",
              "\n",
              "          const docLinkHtml = 'Like what you see? Visit the ' +\n",
              "            '<a target=\"_blank\" href=https://colab.research.google.com/notebooks/data_table.ipynb>data table notebook</a>'\n",
              "            + ' to learn more about interactive tables.';\n",
              "          element.innerHTML = '';\n",
              "          dataTable['output_type'] = 'display_data';\n",
              "          await google.colab.output.renderOutput(dataTable, element);\n",
              "          const docLink = document.createElement('div');\n",
              "          docLink.innerHTML = docLinkHtml;\n",
              "          element.appendChild(docLink);\n",
              "        }\n",
              "      </script>\n",
              "    </div>\n",
              "  </div>\n",
              "  "
            ]
          },
          "metadata": {},
          "execution_count": 58
        }
      ]
    },
    {
      "cell_type": "code",
      "source": [],
      "metadata": {
        "id": "1lDLs49DMEUe"
      },
      "execution_count": null,
      "outputs": []
    }
  ]
}