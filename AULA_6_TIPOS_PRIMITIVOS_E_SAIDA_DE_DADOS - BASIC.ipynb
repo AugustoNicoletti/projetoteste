{
  "nbformat": 4,
  "nbformat_minor": 0,
  "metadata": {
    "colab": {
      "provenance": [],
      "authorship_tag": "ABX9TyO4igaIutipiQPLMVPSpHN1",
      "include_colab_link": true
    },
    "kernelspec": {
      "name": "python3",
      "display_name": "Python 3"
    },
    "language_info": {
      "name": "python"
    }
  },
  "cells": [
    {
      "cell_type": "markdown",
      "metadata": {
        "id": "view-in-github",
        "colab_type": "text"
      },
      "source": [
        "<a href=\"https://colab.research.google.com/github/AugustoNicoletti/projetoteste/blob/master/AULA_6_TIPOS_PRIMITIVOS_E_SAIDA_DE_DADOS%20-%20BASIC.ipynb\" target=\"_parent\"><img src=\"https://colab.research.google.com/assets/colab-badge.svg\" alt=\"Open In Colab\"/></a>"
      ]
    },
    {
      "cell_type": "code",
      "execution_count": null,
      "metadata": {
        "colab": {
          "base_uri": "https://localhost:8080/"
        },
        "id": "P0kuqCy7nIoW",
        "outputId": "765a654d-6f41-4b55-dc1c-b64db1e5b910"
      },
      "outputs": [
        {
          "output_type": "stream",
          "name": "stdout",
          "text": [
            "Digite um numero> 100\n",
            "Digite um numero> 200\n",
            "A soma dos numeros foi 300\n"
          ]
        }
      ],
      "source": [
        "soma1 = int(input(\"Digite um numero> \"))\n",
        "soma2 = int(input(\"Digite um numero> \"))\n",
        "\n",
        "print(\"A soma dos numeros foi {}\".format(soma1 + soma2))\n",
        "\n"
      ]
    },
    {
      "cell_type": "code",
      "source": [
        "soma1 = int(input(\"Digite um valor...\" ))\n",
        "soma2 = int(input(\"Digite outro valor...\" ))\n",
        "s = soma1 + soma2\n",
        "#print(\"A soma entre\",soma1, \"e\",soma2, \"vale >\", s) #Forma mais complexa\n",
        "print(\"A soma entre {} e {} vale {}\".format(soma1,soma2,s)) #Forma mais simplificada"
      ],
      "metadata": {
        "colab": {
          "base_uri": "https://localhost:8080/"
        },
        "id": "jbiSZKMCqeB2",
        "outputId": "66ff2676-7ae4-432d-da97-85b990605354"
      },
      "execution_count": 4,
      "outputs": [
        {
          "output_type": "stream",
          "name": "stdout",
          "text": [
            "Digite um valor...5\n",
            "Digite outro valor...2\n",
            "A soma entre 5 e 2 vale 7\n"
          ]
        }
      ]
    },
    {
      "cell_type": "markdown",
      "source": [
        "## DESAFIO 3 Faça um programa que le 2 numeros e faça a soma entre eles mostrando no console os numeros escolhidos e a soma total"
      ],
      "metadata": {
        "id": "SmBZIPVMuSx5"
      }
    },
    {
      "cell_type": "code",
      "source": [
        "print(\"programa que le 2 numeros e mostra a soma total deles\")\n",
        "n1 = int(input(\"Digite um numero: \"))\n",
        "n2 = int(input(\"Digite outro numero: \"))\n",
        "s = n1 + n2\n",
        "print(\"A soma entre {} e {} ficou: {}\".format(n1,n2,s))\n"
      ],
      "metadata": {
        "colab": {
          "base_uri": "https://localhost:8080/"
        },
        "id": "hWPD8f_ssDJx",
        "outputId": "016319f4-0cd8-44a6-df12-42c0276bfc59"
      },
      "execution_count": 12,
      "outputs": [
        {
          "output_type": "stream",
          "name": "stdout",
          "text": [
            "programa que le 2 numeros e mostra a soma deles\n",
            "Digite um numero: 1000\n",
            "Digite outro numero: 25400\n",
            "A soma entre 1000 e 25400 ficou: 26400\n"
          ]
        }
      ]
    },
    {
      "cell_type": "markdown",
      "source": [
        "## DESAFIO 4 - faça um programa que leia algo pelo teclado e mostre na tela o seu tipo primitivo e todas as informaçoes possiveis sobre ela"
      ],
      "metadata": {
        "id": "3NVUhoZ9ubSM"
      }
    },
    {
      "cell_type": "code",
      "source": [
        "tx = (input(\"Digite alguma coisa...\"))\n",
        "print(type(tx))\n",
        "print(tx.isalnum())\n",
        "print(tx.isalpha())\n",
        "print(tx.isdecimal())"
      ],
      "metadata": {
        "colab": {
          "base_uri": "https://localhost:8080/"
        },
        "id": "zMyjfDnLuayE",
        "outputId": "d189e287-5a45-48ef-f3f9-72cf409219c6"
      },
      "execution_count": 17,
      "outputs": [
        {
          "output_type": "stream",
          "name": "stdout",
          "text": [
            "Digite alguma coisa...s\n",
            "<class 'str'>\n",
            "True\n",
            "True\n",
            "False\n"
          ]
        }
      ]
    },
    {
      "cell_type": "markdown",
      "source": [],
      "metadata": {
        "id": "oxlSrdN3wLKO"
      }
    }
  ]
}