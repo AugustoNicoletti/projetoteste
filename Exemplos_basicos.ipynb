{
  "nbformat": 4,
  "nbformat_minor": 0,
  "metadata": {
    "colab": {
      "provenance": [],
      "authorship_tag": "ABX9TyPulc6T2AdksT4n2FWU/Vv9",
      "include_colab_link": true
    },
    "kernelspec": {
      "name": "python3",
      "display_name": "Python 3"
    },
    "language_info": {
      "name": "python"
    }
  },
  "cells": [
    {
      "cell_type": "markdown",
      "metadata": {
        "id": "view-in-github",
        "colab_type": "text"
      },
      "source": [
        "<a href=\"https://colab.research.google.com/github/AugustoNicoletti/projetoteste/blob/master/Exemplos_basicos.ipynb\" target=\"_parent\"><img src=\"https://colab.research.google.com/assets/colab-badge.svg\" alt=\"Open In Colab\"/></a>"
      ]
    },
    {
      "cell_type": "code",
      "execution_count": 17,
      "metadata": {
        "colab": {
          "base_uri": "https://localhost:8080/"
        },
        "id": "IkS3kvNiSYYF",
        "outputId": "ca2e097b-7ae3-4b30-cb7d-4dbd9fd625dc"
      },
      "outputs": [
        {
          "output_type": "stream",
          "name": "stdout",
          "text": [
            "Qual seu nome?augusto\n",
            "Olá augusto Muito prazer em te conhecer :D\n",
            "Qual sua idade?25\n",
            "Qual seu peso?025\n",
            "Nome do usuario: augusto //Idade do usuario: 25 //Peso do usuario 025\n"
          ]
        }
      ],
      "source": [
        "\n",
        "nome = input('Qual seu nome?')\n",
        "print('Olá',nome,'Muito prazer em te conhecer :D')\n",
        "idade = input('Qual sua idade?')\n",
        "peso = input('Qual seu peso?')\n",
        "print('Nome do usuario:',nome,\n",
        "      '//Idade do usuario:',idade,\n",
        "      '//Peso do usuario',peso,)\n"
      ]
    },
    {
      "cell_type": "code",
      "source": [
        "#soma dos numeros digitados pelo usuario\n",
        "numero1 = input('Digite o primeiro numero: ')\n",
        "numero2 = input('Digite o segundo numero: ')\n",
        "print(' A soma dos numeros digitados foi:', int(numero1) + int(numero2))"
      ],
      "metadata": {
        "colab": {
          "base_uri": "https://localhost:8080/"
        },
        "id": "QgJ9YvJ5ak4g",
        "outputId": "84fb0ae0-0e9b-447a-efa0-60e4dc0adf56"
      },
      "execution_count": 35,
      "outputs": [
        {
          "output_type": "stream",
          "name": "stdout",
          "text": [
            "Digite o primeiro numero: 500\n",
            "Digite o segundo numero: 500\n",
            " A soma dos numeros digitados foi: 1000\n"
          ]
        }
      ]
    },
    {
      "cell_type": "code",
      "source": [],
      "metadata": {
        "id": "wADTjQvMc3bZ"
      },
      "execution_count": null,
      "outputs": []
    }
  ]
}